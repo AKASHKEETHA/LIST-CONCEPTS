{
 "cells": [
  {
   "cell_type": "code",
   "execution_count": 2,
   "metadata": {},
   "outputs": [
    {
     "name": "stdout",
     "output_type": "stream",
     "text": [
      "[]\n",
      "[]\n"
     ]
    }
   ],
   "source": [
    "#creation of an empty list\n",
    "l=list()\n",
    "l1=[]\n",
    "print(l)\n",
    "print(l1)"
   ]
  },
  {
   "cell_type": "code",
   "execution_count": 4,
   "metadata": {},
   "outputs": [
    {
     "name": "stdout",
     "output_type": "stream",
     "text": [
      "ENTER NO OF ELEMNETS2\n",
      "enter the stringakash\n",
      "enter the string123\n",
      "['akash', 123]\n"
     ]
    }
   ],
   "source": [
    "#user input foe lists\n",
    "l=[]\n",
    "n=int(input('ENTER NO OF ELEMNETS'))\n",
    "for i in range(n):\n",
    "    i=input('enter the string')\n",
    "    if i.isdigit():\n",
    "        l.append(int(i))\n",
    "    else:\n",
    "        l.append(i)\n"
   ]
  },
  {
   "cell_type": "code",
   "execution_count": 1,
   "metadata": {},
   "outputs": [
    {
     "name": "stdout",
     "output_type": "stream",
     "text": [
      "ENTER NO OF ELEMNETS4\n",
      "enter the stringakash\n",
      "enter the string123\n",
      "enter the string4546\n",
      "enter the string789\n",
      "['akash', 123, 4546, 789]\n",
      "ENTER NO OF ELEMNETS3\n",
      "enter the stringvarma\n",
      "enter the string123\n",
      "enter the string\n",
      "['varma', 123, '']\n",
      "['akash', 123, 4546, 789, 'varma', 123, '']\n"
     ]
    }
   ],
   "source": [
    "#concatenation of two lists\n",
    "#user input for 1 st lsit\n",
    "l1=[]\n",
    "n=int(input('ENTER NO OF ELEMNETS'))\n",
    "for i in range(n):\n",
    "    i=input('enter the string')\n",
    "    if i.isdigit():\n",
    "        l1.append(int(i))\n",
    "    else:\n",
    "        l1.append(i)\n",
    "print(l1)\n",
    "#user input foe  2 nd list\n",
    "l2=[]\n",
    "n=int(input('ENTER NO OF ELEMNETS'))\n",
    "for i in range(n):\n",
    "    i=input('enter the string')\n",
    "    if i.isdigit():\n",
    "        l2.append(int(i))\n",
    "    else:\n",
    "        l2.append(i)\n",
    "print(l2)\n",
    "print(l1+l2)\n",
    "\n"
   ]
  },
  {
   "cell_type": "code",
   "execution_count": 3,
   "metadata": {},
   "outputs": [
    {
     "name": "stdout",
     "output_type": "stream",
     "text": [
      "['akash', [1, 2, 3, 4], (30+45j), 50.21, (1, 2, 3), {1, 2, 3}, {'a': 97, 'b': 98}]\n"
     ]
    }
   ],
   "source": [
    "#append function adds an element/item to the list at the end .\n",
    "#A list may have integers,list,tuple,strings,set,complexnumbers,dictionaries in it\n",
    "l=[]\n",
    "l.append('akash')\n",
    "l.append([1,2,3,4])\n",
    "l.append(30+45j)\n",
    "l.append(50.21)\n",
    "l.append((1,2,3))\n",
    "l.append({1,2,3})\n",
    "l.append({'a':97,'b':98})\n",
    "print(l)"
   ]
  },
  {
   "cell_type": "code",
   "execution_count": 4,
   "metadata": {},
   "outputs": [
    {
     "data": {
      "text/plain": [
       "[1, 2, {4, 5, 6}, 3, [1, 2, 3], 60.32, 'akash']"
      ]
     },
     "execution_count": 4,
     "metadata": {},
     "output_type": "execute_result"
    }
   ],
   "source": [
    "#insert function adds an item to the list at the index value that we are providing.\n",
    "#it takes index and data item as parameter and replaces that dataitem at that index by increasing that index valued element by 1\n",
    "l=[]\n",
    "l=[1,2,3,[1,2,3],60.32,'akash']\n",
    "l.insert(2,{4,5,6})\n",
    "l"
   ]
  },
  {
   "cell_type": "code",
   "execution_count": 6,
   "metadata": {},
   "outputs": [
    {
     "data": {
      "text/plain": [
       "['akash', 'varma', 1, 2, 99, 88, 77]"
      ]
     },
     "execution_count": 6,
     "metadata": {},
     "output_type": "execute_result"
    }
   ],
   "source": [
    "#extend fnction also add elemenmts to the list at end by iterating the iterable item that has passed intoit as parameter\n",
    "#it takes only iterable elements as parameter ex.integer is not iterable\n",
    "#string,list,set,tuple,dict are iterable\n",
    "l=['akash','varma',1,2]\n",
    "l.extend([99,88,77])\n",
    "l"
   ]
  },
  {
   "cell_type": "code",
   "execution_count": 21,
   "metadata": {},
   "outputs": [
    {
     "name": "stdout",
     "output_type": "stream",
     "text": [
      "[0, 1, 1, 1, 2, 3, 55, 65, 77, 88, 99, 100]    ['akash', 'keetha', 'varma']\n",
      "[[0, 1, 2, 3], [1, 2, 3, 4], [4, 5, 6, 7]]\n",
      "[{'varm': 'a', 'B': 'a'}]\n"
     ]
    }
   ],
   "source": [
    "l1=[100,1,55,65,3,1,0, 1, 2, 99, 88, 77]\n",
    "l1.sort()#sorts the elements in list in ascending order\n",
    "            #to be sorted all the dataitems should be of samdattype\n",
    "l2=['akash','keetha','varma']\n",
    "l2.sort()\n",
    "print(l1,'  ' ,l2)\n",
    "l3=[[1,2,3,4],[4,5,6,7],[0,1,2,3]]\n",
    "l3.sort()\n",
    "print(l3)\n",
    "l4=[{'varm':'a','B':'a'}]            #try problem for list\n",
    "l4.sort()\n",
    "print(l4)"
   ]
  },
  {
   "cell_type": "code",
   "execution_count": 27,
   "metadata": {},
   "outputs": [
    {
     "name": "stdout",
     "output_type": "stream",
     "text": [
      "(50+62j)\n"
     ]
    },
    {
     "data": {
      "text/plain": [
       "1"
      ]
     },
     "execution_count": 27,
     "metadata": {},
     "output_type": "execute_result"
    }
   ],
   "source": [
    "##removes the last element of list\n",
    "l=[1,2,3,4,'akash',50+62j]\n",
    "print(l.pop())#prints the elemnet that is popped\n",
    "l\n",
    "#if u pass the parameter then it remobves the dataitem present at that location\n",
    "l1=[1,2,5,8,'keetha']\n",
    "print(l1.pop(0))#prints the element that is popped out\n",
    "l1\n",
    "\n"
   ]
  },
  {
   "cell_type": "code",
   "execution_count": 30,
   "metadata": {},
   "outputs": [
    {
     "name": "stdout",
     "output_type": "stream",
     "text": [
      "None\n"
     ]
    },
    {
     "data": {
      "text/plain": [
       "[1, 5, 6, 4, 7, 1, 2, 5]"
      ]
     },
     "execution_count": 30,
     "metadata": {},
     "output_type": "execute_result"
    }
   ],
   "source": [
    "#remove function is used to remove the dataitem that u are passing as an argument.if ,\n",
    "#multiple elements are found then its first occurence willl be removed\n",
    "l=[1,2,5,6,4,7,1,2,5]\n",
    "l.remove(2)\n",
    "l"
   ]
  },
  {
   "cell_type": "code",
   "execution_count": 33,
   "metadata": {},
   "outputs": [
    {
     "name": "stdout",
     "output_type": "stream",
     "text": [
      "[4, 3, 2, 1, 'varma', 'akash']\n"
     ]
    }
   ],
   "source": [
    "#reverse function is used to reverse all the listitems\n",
    "l=['akash','varma',1,2,3,4]\n",
    "l.reverse()\n",
    "print(l)\n"
   ]
  },
  {
   "cell_type": "code",
   "execution_count": 34,
   "metadata": {},
   "outputs": [
    {
     "data": {
      "text/plain": [
       "['s', 't', 'r', 'i', 'n', 'g']"
      ]
     },
     "execution_count": 34,
     "metadata": {},
     "output_type": "execute_result"
    }
   ],
   "source": [
    "#list comprehension\n",
    "[i for i in 'string']"
   ]
  },
  {
   "cell_type": "code",
   "execution_count": 35,
   "metadata": {},
   "outputs": [
    {
     "data": {
      "text/plain": [
       "[0, 1, 2, 3, 4, 5, 6, 7, 8, 9]"
      ]
     },
     "execution_count": 35,
     "metadata": {},
     "output_type": "execute_result"
    }
   ],
   "source": [
    "#string comprehension\n",
    "[i for i in range(10)]"
   ]
  },
  {
   "cell_type": "code",
   "execution_count": 36,
   "metadata": {},
   "outputs": [
    {
     "data": {
      "text/plain": [
       "[0, 1, 4, 9, 16, 25, 36, 49, 64, 81]"
      ]
     },
     "execution_count": 36,
     "metadata": {},
     "output_type": "execute_result"
    }
   ],
   "source": [
    "[i*i for i in range(10)]"
   ]
  },
  {
   "cell_type": "code",
   "execution_count": 41,
   "metadata": {},
   "outputs": [
    {
     "name": "stdout",
     "output_type": "stream",
     "text": [
      "10\n"
     ]
    },
    {
     "data": {
      "text/plain": [
       "[0, 2, 4, 6, 8]"
      ]
     },
     "execution_count": 41,
     "metadata": {},
     "output_type": "execute_result"
    }
   ],
   "source": [
    "[i for i in range(int(input() ))if i%2==0 ]"
   ]
  },
  {
   "cell_type": "code",
   "execution_count": 46,
   "metadata": {},
   "outputs": [
    {
     "name": "stdout",
     "output_type": "stream",
     "text": [
      "10\n"
     ]
    },
    {
     "data": {
      "text/plain": [
       "[1, 3, 5, 7, 9]"
      ]
     },
     "execution_count": 46,
     "metadata": {},
     "output_type": "execute_result"
    }
   ],
   "source": [
    "[i for i in range(1,int(input())) if i%2!=0]"
   ]
  },
  {
   "cell_type": "code",
   "execution_count": 48,
   "metadata": {},
   "outputs": [
    {
     "name": "stdout",
     "output_type": "stream",
     "text": [
      "10\n"
     ]
    },
    {
     "data": {
      "text/plain": [
       "['odd', 'even', 'odd', 'even', 'odd', 'even', 'odd', 'even', 'odd', 'even']"
      ]
     },
     "execution_count": 48,
     "metadata": {},
     "output_type": "execute_result"
    }
   ],
   "source": [
    "['odd' if i%2!=0 else 'even' for i in range(1,int(input())+1)]"
   ]
  },
  {
   "cell_type": "code",
   "execution_count": 58,
   "metadata": {},
   "outputs": [
    {
     "data": {
      "text/plain": [
       "[1, 2, 3, 4, 'akash']"
      ]
     },
     "execution_count": 58,
     "metadata": {},
     "output_type": "execute_result"
    }
   ],
   "source": [
    "#copy a list\n",
    "l=[1,2,3,4,'akash']\n",
    "l1=l.copy()\n",
    "l1"
   ]
  },
  {
   "cell_type": "code",
   "execution_count": 59,
   "metadata": {},
   "outputs": [
    {
     "data": {
      "text/plain": [
       "[1, 10, 50, 60]"
      ]
     },
     "execution_count": 59,
     "metadata": {},
     "output_type": "execute_result"
    }
   ],
   "source": [
    "#multiple data assignment\n",
    "l=[1,2,3,4]\n",
    "l[1:4]=[10,50,60]\n",
    "l"
   ]
  },
  {
   "cell_type": "code",
   "execution_count": 62,
   "metadata": {},
   "outputs": [
    {
     "data": {
      "text/plain": [
       "[None, None, None, None, None, None, None, None, None, None]"
      ]
     },
     "execution_count": 62,
     "metadata": {},
     "output_type": "execute_result"
    }
   ],
   "source": [
    "l=[None]*10\n",
    "l"
   ]
  },
  {
   "cell_type": "code",
   "execution_count": 64,
   "metadata": {},
   "outputs": [
    {
     "data": {
      "text/plain": [
       "[1, 3, 4, 5, 6]"
      ]
     },
     "execution_count": 64,
     "metadata": {},
     "output_type": "execute_result"
    }
   ],
   "source": [
    "#delete \n",
    "a=[1,2,3,4,5,6]\n",
    "del a[1]\n",
    "del a[1:]\n",
    "a"
   ]
  },
  {
   "cell_type": "code",
   "execution_count": 65,
   "metadata": {},
   "outputs": [
    {
     "name": "stdout",
     "output_type": "stream",
     "text": [
      "Hello-Python\n"
     ]
    }
   ],
   "source": [
    "my_list = [\"Hello\", \"Python\"]\n",
    "print(\"-\".join(my_list))\n"
   ]
  },
  {
   "cell_type": "code",
   "execution_count": 72,
   "metadata": {},
   "outputs": [
    {
     "ename": "TypeError",
     "evalue": "'newList' is an invalid keyword argument for print()",
     "output_type": "error",
     "traceback": [
      "\u001b[1;31m---------------------------------------------------------------------------\u001b[0m",
      "\u001b[1;31mTypeError\u001b[0m                                 Traceback (most recent call last)",
      "\u001b[1;32m<ipython-input-72-9e2c615ca04a>\u001b[0m in \u001b[0;36m<module>\u001b[1;34m\u001b[0m\n\u001b[0;32m      1\u001b[0m \u001b[0mlistOne\u001b[0m  \u001b[1;33m=\u001b[0m  \u001b[1;33m[\u001b[0m\u001b[1;34m'a'\u001b[0m\u001b[1;33m,\u001b[0m \u001b[1;34m'b'\u001b[0m\u001b[1;33m,\u001b[0m \u001b[1;34m'c'\u001b[0m\u001b[1;33m,\u001b[0m \u001b[1;34m'd'\u001b[0m\u001b[1;33m]\u001b[0m\u001b[1;33m\u001b[0m\u001b[1;33m\u001b[0m\u001b[0m\n\u001b[0;32m      2\u001b[0m \u001b[0mlistTwo\u001b[0m \u001b[1;33m=\u001b[0m  \u001b[1;33m[\u001b[0m\u001b[1;34m'e'\u001b[0m\u001b[1;33m,\u001b[0m \u001b[1;34m'f'\u001b[0m\u001b[1;33m,\u001b[0m \u001b[1;34m'g'\u001b[0m\u001b[1;33m]\u001b[0m\u001b[1;33m\u001b[0m\u001b[1;33m\u001b[0m\u001b[0m\n\u001b[1;32m----> 3\u001b[1;33m \u001b[0mprint\u001b[0m\u001b[1;33m(\u001b[0m\u001b[0mnewList\u001b[0m \u001b[1;33m=\u001b[0m \u001b[0mlistOne\u001b[0m\u001b[1;33m.\u001b[0m\u001b[0mextend\u001b[0m\u001b[1;33m(\u001b[0m\u001b[0mlistTwo\u001b[0m\u001b[1;33m)\u001b[0m\u001b[1;33m)\u001b[0m\u001b[1;33m\u001b[0m\u001b[1;33m\u001b[0m\u001b[0m\n\u001b[0m",
      "\u001b[1;31mTypeError\u001b[0m: 'newList' is an invalid keyword argument for print()"
     ]
    }
   ],
   "source": [
    "listOne  =  ['a', 'b', 'c', 'd']\n",
    "listTwo =  ['e', 'f', 'g']\n",
    "print(newList = listOne.extend(listTwo))\n"
   ]
  },
  {
   "cell_type": "code",
   "execution_count": null,
   "metadata": {},
   "outputs": [],
   "source": []
  }
 ],
 "metadata": {
  "kernelspec": {
   "display_name": "Python 3",
   "language": "python",
   "name": "python3"
  },
  "language_info": {
   "codemirror_mode": {
    "name": "ipython",
    "version": 3
   },
   "file_extension": ".py",
   "mimetype": "text/x-python",
   "name": "python",
   "nbconvert_exporter": "python",
   "pygments_lexer": "ipython3",
   "version": "3.7.4"
  }
 },
 "nbformat": 4,
 "nbformat_minor": 2
}
