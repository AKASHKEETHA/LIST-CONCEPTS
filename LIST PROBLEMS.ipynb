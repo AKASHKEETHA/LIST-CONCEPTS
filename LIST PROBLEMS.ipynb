{
 "cells": [
  {
   "cell_type": "code",
   "execution_count": 5,
   "metadata": {},
   "outputs": [
    {
     "name": "stdout",
     "output_type": "stream",
     "text": [
      "ENTER THE NO OF ELEMENTS IN LIST3\n",
      "enter the integers333\n",
      "enter the integers666\n",
      "enter the integers999\n",
      "[333, 666, 999]\n",
      "[999, 666, 333]\n"
     ]
    }
   ],
   "source": [
    "#Reverse a list in Python which has only integers\n",
    "l=[]\n",
    "n=int(input('ENTER THE NO OF ELEMENTS IN LIST'))\n",
    "\n",
    "for i in range(n):\n",
    "    l.append(int(input('enter the integers')))\n",
    "print(l)\n",
    "l.reverse()\n",
    "print(l)\n"
   ]
  },
  {
   "cell_type": "code",
   "execution_count": 2,
   "metadata": {},
   "outputs": [
    {
     "name": "stdout",
     "output_type": "stream",
     "text": [
      "enter the no of elements in list3\n",
      "akash\n",
      "123\n",
      "rmp\n",
      "['akash', '123', 'rmp']\n",
      "enter the no of elements in list3\n",
      "varma\n",
      "456\n",
      "kdd\n",
      "['varma', '456', 'kdd']\n",
      "['akash', 'varma', '123', '456', 'rmp', 'kdd']\n"
     ]
    }
   ],
   "source": [
    "#Concatenate two lists index-wise\n",
    "l=[]\n",
    "l1=[]\n",
    "n1=int(input('enter the no of elements in list'))\n",
    "for i in range(n1):\n",
    "    l1.append(input())\n",
    "print(l1)\n",
    "l2=[]\n",
    "n2=int(input('enter the no of elements in list'))\n",
    "for i in range(n2):\n",
    "    l2.append(input())\n",
    "print(l2)\n",
    "for i in range(len(l1)):\n",
    "    l.append(l1[i])\n",
    "    for j in range(len(l2)):\n",
    "        if i==j:\n",
    "            l.append(l2[j])\n",
    "print(l)"
   ]
  },
  {
   "cell_type": "code",
   "execution_count": 4,
   "metadata": {},
   "outputs": [
    {
     "name": "stdout",
     "output_type": "stream",
     "text": [
      "enter10\n"
     ]
    },
    {
     "data": {
      "text/plain": [
       "[0, 1, 4, 9, 16, 25, 36, 49, 64, 81]"
      ]
     },
     "execution_count": 4,
     "metadata": {},
     "output_type": "execute_result"
    }
   ],
   "source": [
    "#Given a list of numbers. write a program to turn every item of a list into its square.\n",
    "[i*i for i in range(int(input('enter')))]"
   ]
  },
  {
   "cell_type": "code",
   "execution_count": 5,
   "metadata": {},
   "outputs": [
    {
     "name": "stdout",
     "output_type": "stream",
     "text": [
      "enter the number10\n",
      "[0, 1, 4, 9, 16, 25, 36, 49, 64, 81]\n"
     ]
    }
   ],
   "source": [
    "#Given a list of numbers. write a program to turn every item of a list into its square.\n",
    "l=[]\n",
    "n=int(input('enter the number'))\n",
    "for i in range(n):\n",
    "    l.append(i*i)\n",
    "print(l)\n",
    "    "
   ]
  },
  {
   "cell_type": "code",
   "execution_count": 20,
   "metadata": {},
   "outputs": [
    {
     "name": "stdout",
     "output_type": "stream",
     "text": [
      "enter the number of elements in list2\n",
      "enter the stringakash\n",
      "enter the stringrama\n",
      "enter the number of elements in list22\n",
      "enter the stringkeetha\n",
      "enter the stringvarma\n",
      "['akashkeetha', 'akashvarma', 'ramakeetha', 'ramavarma']\n"
     ]
    }
   ],
   "source": [
    "#Concatenate two lists in the following order\n",
    "l=[]\n",
    "l1=[]\n",
    "l2=[]\n",
    "n1=int(input('enter the number of elements in list'))\n",
    "for i in range(n1):\n",
    "    l1.append(input('enter the string'))\n",
    "#print(l1)\n",
    "n2=int(input('enter the number of elements in list2'))\n",
    "for i in range(n2):\n",
    "    l2.append(input('enter the string'))\n",
    "#print(l2)\n",
    "for i in l1:\n",
    "    for j in l2:\n",
    "        l.append(i+j)\n",
    "        \n",
    "print(l)\n"
   ]
  },
  {
   "cell_type": "code",
   "execution_count": 21,
   "metadata": {},
   "outputs": [
    {
     "name": "stdout",
     "output_type": "stream",
     "text": [
      "enter the number of elements in list3\n",
      "enter the stringakash\n",
      "enter the stringrama\n",
      "enter the stringswathi\n",
      "enter the number of elements in list22\n",
      "enter the stringkeetha\n",
      "enter the stringvarma\n"
     ]
    },
    {
     "data": {
      "text/plain": [
       "['akashkeetha',\n",
       " 'akashvarma',\n",
       " 'ramakeetha',\n",
       " 'ramavarma',\n",
       " 'swathikeetha',\n",
       " 'swathivarma']"
      ]
     },
     "execution_count": 21,
     "metadata": {},
     "output_type": "execute_result"
    }
   ],
   "source": [
    "#list comprehension\n",
    "l1=[]\n",
    "l2=[]\n",
    "n1=int(input('enter the number of elements in list'))\n",
    "for i in range(n1):\n",
    "    l1.append(input('enter the string'))\n",
    "#print(l1)\n",
    "n2=int(input('enter the number of elements in list2'))\n",
    "for i in range(n2):\n",
    "    l2.append(input('enter the string'))\n",
    "#print(l2)\n",
    "[x+y for x in l1 for y in l2]"
   ]
  },
  {
   "cell_type": "code",
   "execution_count": 37,
   "metadata": {},
   "outputs": [
    {
     "name": "stdout",
     "output_type": "stream",
     "text": [
      "enter the number of elements in list4\n",
      "enter the string10\n",
      "enter the string20\n",
      "enter the string30\n",
      "enter the string40\n",
      "['10', '20', '30', '40']\n",
      "enter the number of elements in list24\n",
      "enter the string100\n",
      "enter the string200\n",
      "enter the string300\n",
      "enter the string400\n",
      "10 400\n",
      "20 300\n",
      "30 200\n",
      "40 100\n"
     ]
    }
   ],
   "source": [
    "#Given a two Python list. Write a program to iterate both lists simultaneously and \n",
    "#display items from list1 in original order and items from list2 in reverse order.\n",
    "l=[]\n",
    "l1=[]\n",
    "l2=[]\n",
    "n1=int(input('enter the number of elements in list'))\n",
    "for i in range(n1):\n",
    "    l1.append(input('enter the string'))\n",
    "print(l1)\n",
    "n2=int(input('enter the number of elements in list2'))\n",
    "for i in range(n2):\n",
    "    l2.append(input('enter the string'))\n",
    "#print(l2)\n",
    "l2.reverse()\n",
    "for i in range(len(l1)):\n",
    "    for j in range(len(l2)):\n",
    "        if i==j:\n",
    "            #l.append(l1[i])\n",
    "            print(l1[i],end=' ')\n",
    "            #l.append(l2[j])\n",
    "            print(l2[j])\n",
    "#print(l)\n",
    "    \n",
    "\n",
    "    \n"
   ]
  },
  {
   "cell_type": "code",
   "execution_count": 43,
   "metadata": {},
   "outputs": [
    {
     "name": "stdout",
     "output_type": "stream",
     "text": [
      "enter the number of elements in list6\n",
      "enter the string \n",
      "enter the stringakash\n",
      "enter the string \n",
      "enter the stringvarma\n",
      "enter the string \n",
      "enter the stringkeetha\n",
      "[' ', 'akash', ' ', 'varma', ' ', 'keetha']\n",
      "['akash', 'varma', 'keetha']\n"
     ]
    }
   ],
   "source": [
    "#Remove empty strings from the list of strings\n",
    "l1=[]\n",
    "n1=int(input('enter the number of elements in list'))\n",
    "for i in range(n1):\n",
    "    l1.append(input('enter the string'))\n",
    "print(l1)\n",
    "for i in l1:\n",
    "    if i==' ':\n",
    "        l1.remove(' ')\n",
    "print(l1)"
   ]
  },
  {
   "cell_type": "code",
   "execution_count": 41,
   "metadata": {},
   "outputs": [
    {
     "data": {
      "text/plain": [
       "' '"
      ]
     },
     "execution_count": 41,
     "metadata": {},
     "output_type": "execute_result"
    }
   ],
   "source": [
    "a=str(' ')\n",
    "a"
   ]
  },
  {
   "cell_type": "code",
   "execution_count": null,
   "metadata": {},
   "outputs": [],
   "source": []
  }
 ],
 "metadata": {
  "kernelspec": {
   "display_name": "Python 3",
   "language": "python",
   "name": "python3"
  },
  "language_info": {
   "codemirror_mode": {
    "name": "ipython",
    "version": 3
   },
   "file_extension": ".py",
   "mimetype": "text/x-python",
   "name": "python",
   "nbconvert_exporter": "python",
   "pygments_lexer": "ipython3",
   "version": "3.7.4"
  }
 },
 "nbformat": 4,
 "nbformat_minor": 2
}
